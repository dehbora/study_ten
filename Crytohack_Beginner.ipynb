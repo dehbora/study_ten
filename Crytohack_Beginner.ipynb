{
  "nbformat": 4,
  "nbformat_minor": 0,
  "metadata": {
    "colab": {
      "provenance": [],
      "authorship_tag": "ABX9TyPfZO7Fg5F8QylgGYUvit5T",
      "include_colab_link": true
    },
    "kernelspec": {
      "name": "python3",
      "display_name": "Python 3"
    },
    "language_info": {
      "name": "python"
    }
  },
  "cells": [
    {
      "cell_type": "markdown",
      "metadata": {
        "id": "view-in-github",
        "colab_type": "text"
      },
      "source": [
        "<a href=\"https://colab.research.google.com/github/dehbora/study_ten/blob/main/Crytohack_Beginner.ipynb\" target=\"_parent\"><img src=\"https://colab.research.google.com/assets/colab-badge.svg\" alt=\"Open In Colab\"/></a>"
      ]
    },
    {
      "cell_type": "markdown",
      "source": [
        "**Base64**\n",
        "\n",
        "\n",
        "\n",
        "Another common encoding scheme is Base64, which allows us to represent binary data as an ASCII string using an alphabet of 64 characters. One character of a Base64 string encodes 6 binary digits (bits), and so 4 characters of Base64 encode three 8-bit bytes.\n",
        "\n",
        "Base64 is most commonly used online, so binary data such as images can be easily included into HTML or CSS files.\n",
        "\n",
        "Take the below hex string, decode it into bytes and then encode it into Base64.\n",
        "\n",
        "72bca9b68fc16ac7beeb8f849dca1d8a783e8acf9679bf9269f7bf\n"
      ],
      "metadata": {
        "id": "1R9_uDlxwQUa"
      }
    },
    {
      "cell_type": "code",
      "execution_count": 4,
      "metadata": {
        "colab": {
          "base_uri": "https://localhost:8080/"
        },
        "id": "iyvHOtcmv_El",
        "outputId": "93658d19-32e1-4b7f-cc61-b6ac8ff339a1"
      },
      "outputs": [
        {
          "output_type": "stream",
          "name": "stdout",
          "text": [
            "crypto/Base+64+Encoding+is+Web+Safe/\n"
          ]
        }
      ],
      "source": [
        "import base64\n",
        "\n",
        "hex_str = \"72bca9b68fc16ac7beeb8f849dca1d8a783e8acf9679bf9269f7bf\"\n",
        "\n",
        "# Convert hex string to bytes\n",
        "bytes_obj = bytes.fromhex(hex_str)\n",
        "\n",
        "# Encode bytes to Base64 string\n",
        "b64_str = base64.b64encode(bytes_obj).decode()\n",
        "\n",
        "print(b64_str)  "
      ]
    },
    {
      "cell_type": "markdown",
      "source": [
        "Bytes and Big Integers\n",
        "\n",
        "Cryptosystems like RSA works on numbers, but messages are made up of characters. How should we convert our messages into numbers so that mathematical operations can be applied?\n",
        "\n",
        "The most common way is to take the ordinal bytes of the message, convert them into hexadecimal, and concatenate. This can be interpreted as a base-16/hexadecimal number, and also represented in base-10/decimal.\n",
        "\n",
        "Convert the following integer back into a message:\n",
        "\n",
        "11515195063862318899931685488813747395775516287289682636499965282714637259206269"
      ],
      "metadata": {
        "id": "xozklrBlwdbY"
      }
    },
    {
      "cell_type": "code",
      "source": [
        "!pip install pycryptodome\n",
        "from Crypto.Util.number import *\n",
        "\n",
        "num = 11515195063862318899931685488813747395775516287289682636499965282714637259206269\n",
        "msg = long_to_bytes(num)\n",
        "print(msg.decode('utf-8'))"
      ],
      "metadata": {
        "colab": {
          "base_uri": "https://localhost:8080/"
        },
        "id": "YsrQ46gOwYIa",
        "outputId": "751ec9d7-6df3-4ebb-aa04-e86ddff72b83"
      },
      "execution_count": 3,
      "outputs": [
        {
          "output_type": "stream",
          "name": "stdout",
          "text": [
            "Looking in indexes: https://pypi.org/simple, https://us-python.pkg.dev/colab-wheels/public/simple/\n",
            "Collecting pycryptodome\n",
            "  Downloading pycryptodome-3.17-cp35-abi3-manylinux_2_17_x86_64.manylinux2014_x86_64.whl (2.1 MB)\n",
            "\u001b[2K     \u001b[90m━━━━━━━━━━━━━━━━━━━━━━━━━━━━━━━━━━━━━━━━\u001b[0m \u001b[32m2.1/2.1 MB\u001b[0m \u001b[31m21.7 MB/s\u001b[0m eta \u001b[36m0:00:00\u001b[0m\n",
            "\u001b[?25hInstalling collected packages: pycryptodome\n",
            "Successfully installed pycryptodome-3.17\n",
            "crypto{3nc0d1n6_4ll_7h3_w4y_d0wn}\n"
          ]
        }
      ]
    },
    {
      "cell_type": "markdown",
      "source": [
        "XOR Starter\n",
        "\n",
        "XOR is a bitwise operator which returns 0 if the bits are the same, and 1 otherwise. In textbooks the XOR operator is denoted by ⊕, but in most challenges and programming languages you will see the caret ^ used instead.\n",
        "\n",
        "For longer binary numbers we XOR bit by bit: 0110 ^ 1010 = 1100. We can XOR integers by first converting the integer from decimal to binary. We can XOR strings by first converting each character to the integer representing the Unicode character.\n",
        "\n",
        "Given the string label, XOR each character with the integer 13. Convert these integers back to a string and submit the flag as crypto{new_string}.\n"
      ],
      "metadata": {
        "id": "yBffn-hLwxsf"
      }
    },
    {
      "cell_type": "code",
      "source": [
        "def xor_string_with_13(label):\n",
        "    # 빈 문자열 초기화\n",
        "    result = ''\n",
        "    \n",
        "    # 문자열을 순회하면서 XOR 연산 수행\n",
        "    for c in label:\n",
        "        # 문자를 유니코드 정수로 변환\n",
        "        num = ord(c)\n",
        "        \n",
        "        # 13과 XOR 연산 수행\n",
        "        xor_num = num ^ 13\n",
        "        \n",
        "        # XOR 연산 결과를 문자열에 추가\n",
        "        result += chr(xor_num)\n",
        "    \n",
        "    return result"
      ],
      "metadata": {
        "id": "Cy8tlz0Cw4zL"
      },
      "execution_count": 1,
      "outputs": []
    },
    {
      "cell_type": "code",
      "source": [
        "label = \"label\"\n",
        "flag = \"crypto{\" + xor_string_with_13(label) + \"}\"\n",
        "print(flag)"
      ],
      "metadata": {
        "colab": {
          "base_uri": "https://localhost:8080/"
        },
        "id": "MyU1Hs6bxLN1",
        "outputId": "90f249fb-c0c8-4e8d-9a8d-017a701c963e"
      },
      "execution_count": 2,
      "outputs": [
        {
          "output_type": "stream",
          "name": "stdout",
          "text": [
            "crypto{aloha}\n"
          ]
        }
      ]
    },
    {
      "cell_type": "markdown",
      "source": [
        "XOR Properties\n",
        "\n",
        "In the last challenge, you saw how XOR worked at the level of bits. In this one, we're going to cover the properties of the XOR operation and then use them to undo a chain of operations that have encrypted a flag. Gaining an intuition for how this works will help greatly when you come to attacking real cryptosystems later, especially in the block ciphers category.\n",
        "\n",
        "There are four main properties we should consider when we solve challenges using the XOR operator\n",
        "\n",
        "Let's break this down. Commutative means that the order of the XOR operations is not important. Associative means that a chain of operations can be carried out without order (we do not need to worry about brackets). The identity is 0, so XOR with 0 \"does nothing\", and lastly something XOR'd with itself returns zero.\n",
        "\n",
        "Let's put this into practice! Below is a series of outputs where three random keys have been XOR'd together and with the flag. Use the above properties to undo the encryption in the final line to obtain the flag.\n"
      ],
      "metadata": {
        "id": "LnkgzOp7xZCP"
      }
    },
    {
      "cell_type": "markdown",
      "source": [
        "KEY1 = a6c8b6733c9b22de7bc0253266a3867df55acde8635e19c73313\n",
        "KEY2 ^ KEY1 = 37dcb292030faa90d07eec17e3b1c6d8daf94c35d4c9191a5e1e\n",
        "KEY2 ^ KEY3 = c1545756687e7573db23aa1c3452a098b71a7fbf0fddddde5fc1\n",
        "FLAG ^ KEY1 ^ KEY3 ^ KEY2 = 04ee9855208a2cd59091d04767ae47963170d1660df7f56f5faf"
      ],
      "metadata": {
        "id": "jm31rtzJy3Yw"
      }
    },
    {
      "cell_type": "code",
      "source": [
        "!pip install pwntools"
      ],
      "metadata": {
        "id": "f9zfPfy_zXfH"
      },
      "execution_count": null,
      "outputs": []
    },
    {
      "cell_type": "code",
      "source": [
        "from pwn import xor\n",
        "k1=bytes.fromhex('a6c8b6733c9b22de7bc0253266a3867df55acde8635e19c73313')\n",
        "k2_3=bytes.fromhex('c1545756687e7573db23aa1c3452a098b71a7fbf0fddddde5fc1')\n",
        "flag=bytes.fromhex('04ee9855208a2cd59091d04767ae47963170d1660df7f56f5faf')\n",
        "print(xor(k1,k2_3,flag))  "
      ],
      "metadata": {
        "id": "ZYLxNjfQyffr"
      },
      "execution_count": null,
      "outputs": []
    },
    {
      "cell_type": "markdown",
      "source": [
        "위의 코드가 에러가 날 경우"
      ],
      "metadata": {
        "id": "IpTX8HPd1pb5"
      }
    },
    {
      "cell_type": "code",
      "source": [
        "KEY1 = bytes.fromhex('a6c8b6733c9b22de7bc0253266a3867df55acde8635e19c73313')\n",
        "KEY2_xor_KEY1 = bytes.fromhex('37dcb292030faa90d07eec17e3b1c6d8daf94c35d4c9191a5e1e')\n",
        "KEY2 = bytes([KEY2_xor_KEY1[i] ^ KEY1[i] for i in range(len(KEY1))])\n",
        "KEY2_xor_KEY3 = bytes.fromhex('c1545756687e7573db23aa1c3452a098b71a7fbf0fddddde5fc1')\n",
        "KEY3 = bytes([KEY2_xor_KEY3[i] ^ KEY2[i] for i in range(len(KEY2))])\n",
        "FLAG_xor_KEYS = bytes.fromhex('04ee9855208a2cd59091d04767ae47963170d1660df7f56f5faf')\n",
        "FLAG = bytes([FLAG_xor_KEYS[i] ^ KEY1[i] ^ KEY2[i] ^ KEY3[i] for i in range(len(KEY1))])\n",
        "print(FLAG.decode('ascii'))"
      ],
      "metadata": {
        "colab": {
          "base_uri": "https://localhost:8080/"
        },
        "id": "BtPVUHTu1oed",
        "outputId": "96a36041-45ee-4fd5-c9d3-dd88c085f483"
      },
      "execution_count": 21,
      "outputs": [
        {
          "output_type": "stream",
          "name": "stdout",
          "text": [
            "crypto{x0r_i5_ass0c1at1v3}\n"
          ]
        }
      ]
    },
    {
      "cell_type": "markdown",
      "source": [
        "**Favourite byte**\n",
        "\n",
        "For the next few challenges, you'll use what you've just learned to solve some more XOR puzzles.\n",
        "\n",
        "I've hidden some data using XOR with a single byte, but that byte is a secret. Don't forget to decode from hex first.\n",
        "\n",
        "73626960647f6b206821204f21254f7d694f7624662065622127234f726927756d"
      ],
      "metadata": {
        "id": "xwGhjVZm1wwU"
      }
    },
    {
      "cell_type": "code",
      "source": [
        "import codecs\n",
        "\n",
        "hex_data = \"73626960647f6b206821204f21254f7d694f7624662065622127234f726927756d\"\n",
        "data = codecs.decode(hex_data, 'hex')\n",
        "\n",
        "for i in range(256):\n",
        "    message = bytes([data[j] ^ i for j in range(len(data))])\n",
        "    if b'crypto' in message:\n",
        "        print(message.decode())"
      ],
      "metadata": {
        "colab": {
          "base_uri": "https://localhost:8080/"
        },
        "id": "PL6E7pje15UT",
        "outputId": "14285df0-41da-4189-dc3a-91c9355ff56a"
      },
      "execution_count": 22,
      "outputs": [
        {
          "output_type": "stream",
          "name": "stdout",
          "text": [
            "crypto{0x10_15_my_f4v0ur173_by7e}\n"
          ]
        }
      ]
    },
    {
      "cell_type": "markdown",
      "source": [
        "**You either know, XOR you don't**\n",
        "\n",
        "I've encrypted the flag with my secret key, you'll never be able to guess it.\n",
        "0e0b213f26041e480b26217f27342e175d0e070a3c5b103e2526217f27342e175d0e077e263451150104"
      ],
      "metadata": {
        "id": "cQ8-pnVk2W3x"
      }
    },
    {
      "cell_type": "code",
      "source": [
        "encrypted_msg = \"0e0b213f26041e480b26217f27342e175d0e070a3c5b103e2526217f27342e175d0e077e263451150104\"\n",
        "encrypted_msg = bytes.fromhex(encrypted_msg)\n",
        "\n",
        "flag_format = b\"crypto{\"\n",
        "key = [o1 ^ o2\n",
        "       for (o1, o2) in zip(encrypted_msg, flag_format)] + [ord(\"y\")]\n",
        "\n",
        "flag = []\n",
        "key_len = len(key)\n",
        "for i in range(len(encrypted_msg)):\n",
        "    flag.append(\n",
        "        encrypted_msg[i] ^ key[i % key_len]\n",
        "    )\n",
        "flag = \"\".join(chr(o) for o in flag)\n",
        "\n",
        "print(\"Flag:\")\n",
        "print(flag)"
      ],
      "metadata": {
        "colab": {
          "base_uri": "https://localhost:8080/"
        },
        "id": "0uhIZz1k2zHn",
        "outputId": "053e5427-4bf1-45c9-afa5-7c49f141762b"
      },
      "execution_count": 33,
      "outputs": [
        {
          "output_type": "stream",
          "name": "stdout",
          "text": [
            "Flag:\n",
            "crypto{1f_y0u_Kn0w_En0uGH_y0u_Kn0w_1t_4ll}\n"
          ]
        }
      ]
    },
    {
      "cell_type": "code",
      "source": [
        "\n",
        "from itertools import cycle\n",
        "\n",
        "encoded = bytes.fromhex('0e0b213f26041e480b26217f27342e175d0e070a3c5b103e2526217f27342e175d0e077e263451150104')\n",
        "\n",
        "flag_start = 'crypto{'\n",
        "\n",
        "# decrypt the first part of the encoded\n",
        "key = [encoded[i] ^ ord(c) for i, c in enumerate(flag_start)]\n",
        "print('Decrypted key part:', ''.join(chr(i) for i in key))\n",
        "\n",
        "# I guess, we should add 'y' to the key \"myXORke\"\n",
        "key.append(ord('y'))\n",
        "print('Solution:', ''.join(chr(k ^ e) for k, e in zip(cycle(key), encoded)))"
      ],
      "metadata": {
        "colab": {
          "base_uri": "https://localhost:8080/"
        },
        "id": "kf83tsfC4gS6",
        "outputId": "20332864-6137-46b2-fd2a-cdfcd6b28f10"
      },
      "execution_count": 38,
      "outputs": [
        {
          "output_type": "stream",
          "name": "stdout",
          "text": [
            "Decrypted key part: myXORke\n",
            "Solution: crypto{1f_y0u_Kn0w_En0uGH_y0u_Kn0w_1t_4ll}\n"
          ]
        }
      ]
    }
  ]
}